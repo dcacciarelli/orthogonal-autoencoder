{
 "cells": [
  {
   "cell_type": "code",
   "execution_count": 1,
   "metadata": {},
   "outputs": [],
   "source": [
    "import pandas as pd\n",
    "import matplotlib.pyplot as plt\n",
    "from sklearn.preprocessing import StandardScaler\n",
    "import torch\n",
    "from torch import nn\n",
    "from model import OrthogonalAutoEncoder\n",
    "from training_utils import TrainingModel, create_grouped_bar_plot\n",
    "from gradients import get_integrated_gradients, get_integrated_gradients_mc"
   ]
  },
  {
   "cell_type": "code",
   "execution_count": 2,
   "metadata": {},
   "outputs": [],
   "source": [
    "# AI4I (data from https://archive.ics.uci.edu/ml/datasets/AI4I+2020+Predictive+Maintenance+Dataset)\n",
    "# only keeping columns: Air_temperature, Process_temperature, Rotational_speed, Torque, Tool_wear, y\n",
    "df = pd.read_csv(\"/Users/dcac/Data/ai4i/ai4i2020_reduced.csv\").iloc[:1000, 3:]\n",
    "df_train = df[df[\"y\"] == 0].drop([\"y\"], axis=1)  # clean training data to fit the model\n",
    "df_test = df[df[\"y\"] == 1].drop([\"y\"], axis=1)"
   ]
  },
  {
   "cell_type": "code",
   "execution_count": 3,
   "metadata": {},
   "outputs": [
    {
     "data": {
      "text/plain": "Index(['Air_temperature', 'Process_temperature', 'Rotational_speed', 'Torque',\n       'Tool_wear', 'y'],\n      dtype='object')"
     },
     "execution_count": 3,
     "metadata": {},
     "output_type": "execute_result"
    }
   ],
   "source": [
    "df.columns"
   ]
  },
  {
   "cell_type": "code",
   "execution_count": 4,
   "metadata": {},
   "outputs": [],
   "source": [
    "# Scaling data\n",
    "scaler = StandardScaler()\n",
    "x1 = torch.Tensor(pd.DataFrame(scaler.fit_transform(df_train)).values)\n",
    "x2 = torch.Tensor(pd.DataFrame(scaler.transform(df_train)).values)"
   ]
  },
  {
   "cell_type": "code",
   "execution_count": 5,
   "metadata": {},
   "outputs": [
    {
     "name": "stdout",
     "output_type": "stream",
     "text": [
      "OrthogonalAutoEncoder(\n",
      "  (encoder): Sequential(\n",
      "    (0): Linear(in_features=5, out_features=5, bias=True)\n",
      "    (1): Dropout(p=0, inplace=False)\n",
      "    (2): ReLU()\n",
      "    (3): BatchNorm1d(5, eps=1e-05, momentum=0.1, affine=True, track_running_stats=True)\n",
      "  )\n",
      "  (decoder): Sequential(\n",
      "    (0): Linear(in_features=5, out_features=5, bias=True)\n",
      "    (1): Dropout(p=0, inplace=False)\n",
      "    (2): ReLU()\n",
      "    (3): BatchNorm1d(5, eps=1e-05, momentum=0.1, affine=True, track_running_stats=True)\n",
      "  )\n",
      ")\n"
     ]
    },
    {
     "data": {
      "text/plain": "80"
     },
     "execution_count": 5,
     "metadata": {},
     "output_type": "execute_result"
    }
   ],
   "source": [
    "# Initiating model\n",
    "model = OrthogonalAutoEncoder(encoding_layers=[5, 5], activation_function=nn.ReLU(), dropout=0)\n",
    "device = torch.device(\"cuda:0\" if torch.cuda.is_available() else \"cpu\")\n",
    "model = model.to(device)\n",
    "print(model)\n",
    "sum(p.numel() for p in model.parameters() if p.requires_grad)  # number of parameters"
   ]
  },
  {
   "cell_type": "code",
   "execution_count": 6,
   "metadata": {
    "scrolled": true
   },
   "outputs": [
    {
     "name": "stdout",
     "output_type": "stream",
     "text": [
      "[   1/1000] train_loss: 13.814720 valid_loss: 17.968778\n",
      "Validation loss decreased (inf --> 17.968778).  Saving model ...\n",
      "[   2/1000] train_loss: 10.527803 valid_loss: 13.196940\n",
      "Validation loss decreased (17.968778 --> 13.196940).  Saving model ...\n",
      "[   3/1000] train_loss: 8.513852 valid_loss: 19.409148\n",
      "EarlyStopping counter: 1 out of 10\n",
      "[   4/1000] train_loss: 7.094853 valid_loss: 15.626651\n",
      "EarlyStopping counter: 2 out of 10\n",
      "[   5/1000] train_loss: 5.963108 valid_loss: 8.960754\n",
      "Validation loss decreased (13.196940 --> 8.960754).  Saving model ...\n",
      "[   6/1000] train_loss: 5.113525 valid_loss: 7.425166\n",
      "Validation loss decreased (8.960754 --> 7.425166).  Saving model ...\n",
      "[   7/1000] train_loss: 4.290894 valid_loss: 9.108599\n",
      "EarlyStopping counter: 1 out of 10\n",
      "[   8/1000] train_loss: 3.732281 valid_loss: 4.842178\n",
      "Validation loss decreased (7.425166 --> 4.842178).  Saving model ...\n",
      "[   9/1000] train_loss: 3.270917 valid_loss: 5.141266\n",
      "EarlyStopping counter: 1 out of 10\n",
      "[  10/1000] train_loss: 2.784142 valid_loss: 4.044726\n",
      "Validation loss decreased (4.842178 --> 4.044726).  Saving model ...\n",
      "[  11/1000] train_loss: 2.573526 valid_loss: 4.090460\n",
      "EarlyStopping counter: 1 out of 10\n",
      "[  12/1000] train_loss: 2.315914 valid_loss: 3.269867\n",
      "Validation loss decreased (4.044726 --> 3.269867).  Saving model ...\n",
      "[  13/1000] train_loss: 2.144641 valid_loss: 3.134417\n",
      "Validation loss decreased (3.269867 --> 3.134417).  Saving model ...\n",
      "[  14/1000] train_loss: 1.967053 valid_loss: 2.509310\n",
      "Validation loss decreased (3.134417 --> 2.509310).  Saving model ...\n",
      "[  15/1000] train_loss: 1.816934 valid_loss: 3.199996\n",
      "EarlyStopping counter: 1 out of 10\n",
      "[  16/1000] train_loss: 1.657406 valid_loss: 2.309835\n",
      "Validation loss decreased (2.509310 --> 2.309835).  Saving model ...\n",
      "[  17/1000] train_loss: 1.536353 valid_loss: 1.829752\n",
      "Validation loss decreased (2.309835 --> 1.829752).  Saving model ...\n",
      "[  18/1000] train_loss: 1.401666 valid_loss: 3.062678\n",
      "EarlyStopping counter: 1 out of 10\n",
      "[  19/1000] train_loss: 1.296945 valid_loss: 1.840764\n",
      "EarlyStopping counter: 2 out of 10\n",
      "[  20/1000] train_loss: 1.197123 valid_loss: 1.933781\n",
      "EarlyStopping counter: 3 out of 10\n",
      "[  21/1000] train_loss: 1.113859 valid_loss: 1.448362\n",
      "Validation loss decreased (1.829752 --> 1.448362).  Saving model ...\n",
      "[  22/1000] train_loss: 1.036930 valid_loss: 1.337398\n",
      "Validation loss decreased (1.448362 --> 1.337398).  Saving model ...\n",
      "[  23/1000] train_loss: 0.988250 valid_loss: 1.367801\n",
      "EarlyStopping counter: 1 out of 10\n",
      "[  24/1000] train_loss: 0.927907 valid_loss: 1.288328\n",
      "Validation loss decreased (1.337398 --> 1.288328).  Saving model ...\n",
      "[  25/1000] train_loss: 0.827543 valid_loss: 1.549943\n",
      "EarlyStopping counter: 1 out of 10\n",
      "[  26/1000] train_loss: 0.789139 valid_loss: 0.994070\n",
      "Validation loss decreased (1.288328 --> 0.994070).  Saving model ...\n",
      "[  27/1000] train_loss: 0.751059 valid_loss: 1.000813\n",
      "EarlyStopping counter: 1 out of 10\n",
      "[  28/1000] train_loss: 0.715884 valid_loss: 0.999252\n",
      "EarlyStopping counter: 2 out of 10\n",
      "[  29/1000] train_loss: 0.675966 valid_loss: 0.949370\n",
      "Validation loss decreased (0.994070 --> 0.949370).  Saving model ...\n",
      "[  30/1000] train_loss: 0.635895 valid_loss: 0.794400\n",
      "Validation loss decreased (0.949370 --> 0.794400).  Saving model ...\n",
      "[  31/1000] train_loss: 0.583462 valid_loss: 0.984264\n",
      "EarlyStopping counter: 1 out of 10\n",
      "[  32/1000] train_loss: 0.556253 valid_loss: 0.624485\n",
      "Validation loss decreased (0.794400 --> 0.624485).  Saving model ...\n",
      "[  33/1000] train_loss: 0.528038 valid_loss: 0.690831\n",
      "EarlyStopping counter: 1 out of 10\n",
      "[  34/1000] train_loss: 0.479787 valid_loss: 0.688174\n",
      "EarlyStopping counter: 2 out of 10\n",
      "[  35/1000] train_loss: 0.464662 valid_loss: 0.512501\n",
      "Validation loss decreased (0.624485 --> 0.512501).  Saving model ...\n",
      "[  36/1000] train_loss: 0.461497 valid_loss: 0.563844\n",
      "EarlyStopping counter: 1 out of 10\n",
      "[  37/1000] train_loss: 0.417972 valid_loss: 0.533626\n",
      "EarlyStopping counter: 2 out of 10\n",
      "[  38/1000] train_loss: 0.406835 valid_loss: 0.486529\n",
      "Validation loss decreased (0.512501 --> 0.486529).  Saving model ...\n",
      "[  39/1000] train_loss: 0.383610 valid_loss: 0.409860\n",
      "Validation loss decreased (0.486529 --> 0.409860).  Saving model ...\n",
      "[  40/1000] train_loss: 0.361603 valid_loss: 0.370768\n",
      "Validation loss decreased (0.409860 --> 0.370768).  Saving model ...\n",
      "[  41/1000] train_loss: 0.363130 valid_loss: 0.363670\n",
      "Validation loss decreased (0.370768 --> 0.363670).  Saving model ...\n",
      "[  42/1000] train_loss: 0.344852 valid_loss: 0.366638\n",
      "EarlyStopping counter: 1 out of 10\n",
      "[  43/1000] train_loss: 0.349798 valid_loss: 0.365930\n",
      "EarlyStopping counter: 2 out of 10\n",
      "[  44/1000] train_loss: 0.307478 valid_loss: 0.369099\n",
      "EarlyStopping counter: 3 out of 10\n",
      "[  45/1000] train_loss: 0.292027 valid_loss: 0.318920\n",
      "Validation loss decreased (0.363670 --> 0.318920).  Saving model ...\n",
      "[  46/1000] train_loss: 0.334536 valid_loss: 0.325444\n",
      "EarlyStopping counter: 1 out of 10\n",
      "[  47/1000] train_loss: 0.286573 valid_loss: 0.287954\n",
      "Validation loss decreased (0.318920 --> 0.287954).  Saving model ...\n",
      "[  48/1000] train_loss: 0.268218 valid_loss: 0.284842\n",
      "Validation loss decreased (0.287954 --> 0.284842).  Saving model ...\n",
      "[  49/1000] train_loss: 0.286756 valid_loss: 0.257669\n",
      "Validation loss decreased (0.284842 --> 0.257669).  Saving model ...\n",
      "[  50/1000] train_loss: 0.261062 valid_loss: 0.263741\n",
      "EarlyStopping counter: 1 out of 10\n",
      "[  51/1000] train_loss: 0.251591 valid_loss: 0.239101\n",
      "Validation loss decreased (0.257669 --> 0.239101).  Saving model ...\n",
      "[  52/1000] train_loss: 0.313515 valid_loss: 0.262339\n",
      "EarlyStopping counter: 1 out of 10\n",
      "[  53/1000] train_loss: 0.244850 valid_loss: 0.231560\n",
      "Validation loss decreased (0.239101 --> 0.231560).  Saving model ...\n",
      "[  54/1000] train_loss: 0.240885 valid_loss: 0.235824\n",
      "EarlyStopping counter: 1 out of 10\n",
      "[  55/1000] train_loss: 0.219426 valid_loss: 0.206288\n",
      "Validation loss decreased (0.231560 --> 0.206288).  Saving model ...\n",
      "[  56/1000] train_loss: 0.214308 valid_loss: 0.209241\n",
      "EarlyStopping counter: 1 out of 10\n",
      "[  57/1000] train_loss: 0.247150 valid_loss: 0.198224\n",
      "Validation loss decreased (0.206288 --> 0.198224).  Saving model ...\n",
      "[  58/1000] train_loss: 0.211556 valid_loss: 0.183517\n",
      "Validation loss decreased (0.198224 --> 0.183517).  Saving model ...\n",
      "[  59/1000] train_loss: 0.225695 valid_loss: 0.171378\n",
      "Validation loss decreased (0.183517 --> 0.171378).  Saving model ...\n",
      "[  60/1000] train_loss: 0.220481 valid_loss: 0.180111\n",
      "EarlyStopping counter: 1 out of 10\n",
      "[  61/1000] train_loss: 0.209611 valid_loss: 0.163557\n",
      "Validation loss decreased (0.171378 --> 0.163557).  Saving model ...\n",
      "[  62/1000] train_loss: 0.177226 valid_loss: 0.168313\n",
      "EarlyStopping counter: 1 out of 10\n",
      "[  63/1000] train_loss: 0.213079 valid_loss: 0.146731\n",
      "Validation loss decreased (0.163557 --> 0.146731).  Saving model ...\n",
      "[  64/1000] train_loss: 0.197009 valid_loss: 0.174868\n",
      "EarlyStopping counter: 1 out of 10\n",
      "[  65/1000] train_loss: 0.183922 valid_loss: 0.150561\n",
      "EarlyStopping counter: 2 out of 10\n",
      "[  66/1000] train_loss: 0.189368 valid_loss: 0.159219\n",
      "EarlyStopping counter: 3 out of 10\n",
      "[  67/1000] train_loss: 0.204997 valid_loss: 0.139777\n",
      "Validation loss decreased (0.146731 --> 0.139777).  Saving model ...\n",
      "[  68/1000] train_loss: 0.188279 valid_loss: 0.121047\n",
      "Validation loss decreased (0.139777 --> 0.121047).  Saving model ...\n",
      "[  69/1000] train_loss: 0.172825 valid_loss: 0.139186\n",
      "EarlyStopping counter: 1 out of 10\n",
      "[  70/1000] train_loss: 0.162986 valid_loss: 0.123642\n",
      "EarlyStopping counter: 2 out of 10\n",
      "[  71/1000] train_loss: 0.218129 valid_loss: 0.124849\n",
      "EarlyStopping counter: 3 out of 10\n",
      "[  72/1000] train_loss: 0.167986 valid_loss: 0.136695\n",
      "EarlyStopping counter: 4 out of 10\n",
      "[  73/1000] train_loss: 0.178208 valid_loss: 0.102595\n",
      "Validation loss decreased (0.121047 --> 0.102595).  Saving model ...\n",
      "[  74/1000] train_loss: 0.168646 valid_loss: 0.122681\n",
      "EarlyStopping counter: 1 out of 10\n",
      "[  75/1000] train_loss: 0.150754 valid_loss: 0.114093\n",
      "EarlyStopping counter: 2 out of 10\n",
      "[  76/1000] train_loss: 0.152893 valid_loss: 0.103697\n",
      "EarlyStopping counter: 3 out of 10\n",
      "[  77/1000] train_loss: 0.166357 valid_loss: 0.110706\n",
      "EarlyStopping counter: 4 out of 10\n",
      "[  78/1000] train_loss: 0.146084 valid_loss: 0.087822\n",
      "Validation loss decreased (0.102595 --> 0.087822).  Saving model ...\n",
      "[  79/1000] train_loss: 0.157264 valid_loss: 0.111547\n",
      "EarlyStopping counter: 1 out of 10\n",
      "[  80/1000] train_loss: 0.144798 valid_loss: 0.084515\n",
      "Validation loss decreased (0.087822 --> 0.084515).  Saving model ...\n",
      "[  81/1000] train_loss: 0.155025 valid_loss: 0.092606\n",
      "EarlyStopping counter: 1 out of 10\n",
      "[  82/1000] train_loss: 0.150616 valid_loss: 0.072712\n",
      "Validation loss decreased (0.084515 --> 0.072712).  Saving model ...\n",
      "[  83/1000] train_loss: 0.152664 valid_loss: 0.075481\n",
      "EarlyStopping counter: 1 out of 10\n",
      "[  84/1000] train_loss: 0.155352 valid_loss: 0.084137\n",
      "EarlyStopping counter: 2 out of 10\n",
      "[  85/1000] train_loss: 0.123348 valid_loss: 0.077882\n",
      "EarlyStopping counter: 3 out of 10\n",
      "[  86/1000] train_loss: 0.147333 valid_loss: 0.084478\n",
      "EarlyStopping counter: 4 out of 10\n",
      "[  87/1000] train_loss: 0.142103 valid_loss: 0.069719\n",
      "Validation loss decreased (0.072712 --> 0.069719).  Saving model ...\n",
      "[  88/1000] train_loss: 0.165290 valid_loss: 0.081705\n",
      "EarlyStopping counter: 1 out of 10\n",
      "[  89/1000] train_loss: 0.137051 valid_loss: 0.063246\n",
      "Validation loss decreased (0.069719 --> 0.063246).  Saving model ...\n",
      "[  90/1000] train_loss: 0.122491 valid_loss: 0.078325\n",
      "EarlyStopping counter: 1 out of 10\n",
      "[  91/1000] train_loss: 0.135539 valid_loss: 0.065819\n",
      "EarlyStopping counter: 2 out of 10\n",
      "[  92/1000] train_loss: 0.134658 valid_loss: 0.074729\n",
      "EarlyStopping counter: 3 out of 10\n",
      "[  93/1000] train_loss: 0.159331 valid_loss: 0.073528\n",
      "EarlyStopping counter: 4 out of 10\n",
      "[  94/1000] train_loss: 0.152682 valid_loss: 0.065180\n",
      "EarlyStopping counter: 5 out of 10\n",
      "[  95/1000] train_loss: 0.143802 valid_loss: 0.068400\n",
      "EarlyStopping counter: 6 out of 10\n",
      "[  96/1000] train_loss: 0.131938 valid_loss: 0.061414\n",
      "Validation loss decreased (0.063246 --> 0.061414).  Saving model ...\n",
      "[  97/1000] train_loss: 0.129809 valid_loss: 0.069244\n",
      "EarlyStopping counter: 1 out of 10\n",
      "[  98/1000] train_loss: 0.128447 valid_loss: 0.066007\n",
      "EarlyStopping counter: 2 out of 10\n",
      "[  99/1000] train_loss: 0.140586 valid_loss: 0.079743\n",
      "EarlyStopping counter: 3 out of 10\n",
      "[ 100/1000] train_loss: 0.109082 valid_loss: 0.068542\n",
      "EarlyStopping counter: 4 out of 10\n",
      "[ 101/1000] train_loss: 0.119143 valid_loss: 0.065467\n",
      "EarlyStopping counter: 5 out of 10\n",
      "[ 102/1000] train_loss: 0.121060 valid_loss: 0.074192\n",
      "EarlyStopping counter: 6 out of 10\n",
      "[ 103/1000] train_loss: 0.124526 valid_loss: 0.098584\n",
      "EarlyStopping counter: 7 out of 10\n",
      "[ 104/1000] train_loss: 0.141672 valid_loss: 0.076377\n",
      "EarlyStopping counter: 8 out of 10\n",
      "[ 105/1000] train_loss: 0.126071 valid_loss: 0.062773\n",
      "EarlyStopping counter: 9 out of 10\n",
      "[ 106/1000] train_loss: 0.112094 valid_loss: 0.078942\n",
      "EarlyStopping counter: 10 out of 10\n",
      "-----------> Early stopping: no improvement after 10 consecutive epochs\n"
     ]
    }
   ],
   "source": [
    "# Training model (validation loss is lower because of dropout)\n",
    "train = TrainingModel(penalty=0.1, learning_rate=0.001, batch_size=20, val_size=0.20, verbose=True)\n",
    "train_loader, valid_loader = train.create_datasets(train_data=x1)\n",
    "trained_model, losses = train.train_model(model, patience=10, n_epochs=1000)"
   ]
  },
  {
   "cell_type": "code",
   "execution_count": 7,
   "metadata": {},
   "outputs": [
    {
     "data": {
      "text/plain": "<Figure size 720x720 with 1 Axes>",
      "image/png": "[encoded data removed]"
     },
     "metadata": {
      "needs_background": "light"
     },
     "output_type": "display_data"
    }
   ],
   "source": [
    "# Plot losses\n",
    "plt.figure(figsize=(10, 10))\n",
    "plt.plot(losses[\"train\"], label=\"training loss\")\n",
    "plt.plot(losses[\"val\"], label=\"validation loss\")\n",
    "plt.legend()\n",
    "plt.show()"
   ]
  },
  {
   "cell_type": "code",
   "execution_count": 8,
   "metadata": {},
   "outputs": [],
   "source": [
    "# Saving trained model\n",
    "torch.save(trained_model, \"orthogonal_autoencoder.pt\")"
   ]
  },
  {
   "cell_type": "code",
   "execution_count": 9,
   "metadata": {},
   "outputs": [],
   "source": [
    "# Computing integrated gradients of the encoder network\n",
    "base = x1.mean(axis=0)\n",
    "example = x2[0]\n",
    "int_grads_tr, _ = get_integrated_gradients(model=trained_model, inp=example, baseline=base, steps=20)\n",
    "int_grads_mc, _ = get_integrated_gradients_mc(model=trained_model, inp=example, baseline=base, samples=100)"
   ]
  },
  {
   "cell_type": "code",
   "execution_count": 10,
   "metadata": {},
   "outputs": [
    {
     "data": {
      "text/plain": "<Figure size 432x288 with 1 Axes>",
      "image/png": "[encoded data removed]"
     },
     "metadata": {
      "needs_background": "light"
     },
     "output_type": "display_data"
    }
   ],
   "source": [
    "# Plotting integrated gradients\n",
    "create_grouped_bar_plot(df_train.columns, Trapezoidal=int_grads_tr, Monte_Carlo=int_grads_mc)"
   ]
  }
 ],
 "metadata": {
  "kernelspec": {
   "display_name": "Python 3",
   "language": "python",
   "name": "python3"
  },
  "language_info": {
   "codemirror_mode": {
    "name": "ipython",
    "version": 3
   },
   "file_extension": ".py",
   "mimetype": "text/x-python",
   "name": "python",
   "nbconvert_exporter": "python",
   "pygments_lexer": "ipython3",
   "version": "3.8.8"
  }
 },
 "nbformat": 4,
 "nbformat_minor": 1
}
